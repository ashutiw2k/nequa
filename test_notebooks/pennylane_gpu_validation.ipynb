{
 "cells": [
  {
   "cell_type": "markdown",
   "id": "f8a19afd",
   "metadata": {},
   "source": [
    "# PennyLane GPU Validation Notebook\n",
    "\n",
    "This notebook will:\n",
    "\n",
    "1. Validate the installation of PennyLane, PennyLane Lightning, and GPU support.\n",
    "2. Run a simple quantum circuit on the GPU backend to ensure everything is working correctly."
   ]
  },
  {
   "cell_type": "code",
   "execution_count": null,
   "id": "3022f4b0",
   "metadata": {},
   "outputs": [],
   "source": [
    "import pennylane as qml\n",
    "import pennylane_lightning\n",
    "\n",
    "print(\"PennyLane version:\", qml.__version__)\n",
    "print(\"PennyLane Lightning plugin version:\", pennylane_lightning.__version__)"
   ]
  },
  {
   "cell_type": "code",
   "execution_count": null,
   "id": "7d9bb788",
   "metadata": {},
   "outputs": [],
   "source": [
    "# Full environment and plugin info\n",
    "print(qml.about())"
   ]
  },
  {
   "cell_type": "code",
   "execution_count": null,
   "id": "f0ec3b96",
   "metadata": {},
   "outputs": [],
   "source": [
    "import pennylane as qml\n",
    "from pennylane import numpy as np\n",
    "\n",
    "# Try to instantiate the GPU-enabled Lightning device\n",
    "try:\n",
    "    # Newer interface: specify backend argument\n",
    "    dev = qml.device(\"lightning.qubit\", wires=2, backend=\"gpu\")\n",
    "except TypeError:\n",
    "    # Fallback: legacy GPU device name\n",
    "    dev = qml.device(\"lightning.gpu\", wires=2)\n",
    "\n",
    "print(\"Using device:\", dev)"
   ]
  },
  {
   "cell_type": "code",
   "execution_count": null,
   "id": "f6e5b341",
   "metadata": {},
   "outputs": [],
   "source": [
    "# Define and run a simple circuit on the GPU\n",
    "@qml.qnode(dev)\n",
    "def bell_circuit():\n",
    "    qml.Hadamard(wires=0)\n",
    "    qml.CNOT(wires=[0, 1])\n",
    "    return qml.expval(qml.PauliZ(0)), qml.expval(qml.PauliZ(1))\n",
    "\n",
    "result = bell_circuit()\n",
    "print(\"Result of Bell-state measurements:\", result)"
   ]
  }
 ],
 "metadata": {
  "kernelspec": {
   "display_name": ".venv",
   "language": "python",
   "name": "python3"
  },
  "language_info": {
   "codemirror_mode": {
    "name": "ipython",
    "version": 3
   },
   "file_extension": ".py",
   "mimetype": "text/x-python",
   "name": "python",
   "nbconvert_exporter": "python",
   "pygments_lexer": "ipython3",
   "version": "3.13.2"
  }
 },
 "nbformat": 4,
 "nbformat_minor": 5
}
