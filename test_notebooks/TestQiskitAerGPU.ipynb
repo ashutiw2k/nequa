{
 "cells": [
  {
   "cell_type": "code",
   "execution_count": 1,
   "id": "9aafbeab",
   "metadata": {},
   "outputs": [],
   "source": [
    "import qiskit\n",
    "from qiskit import transpile\n",
    "from qiskit_aer.primitives import SamplerV2\n",
    "from qiskit_aer import AerSimulator\n",
    "\n"
   ]
  },
  {
   "cell_type": "code",
   "execution_count": null,
   "id": "0a06fe92",
   "metadata": {},
   "outputs": [
    {
     "name": "stdout",
     "output_type": "stream",
     "text": [
      "('CPU', 'GPU') AerSimulator('aer_simulator_stabilizer')\n",
      "('automatic', 'statevector', 'density_matrix', 'stabilizer', 'matrix_product_state', 'extended_stabilizer', 'unitary', 'superop', 'tensor_network')\n",
      "['GPU'] AerSimulator('aer_simulator_tensor_network_gpu')\n",
      "('automatic', 'statevector', 'density_matrix', 'stabilizer', 'matrix_product_state', 'extended_stabilizer', 'unitary', 'superop', 'tensor_network')\n"
     ]
    }
   ],
   "source": [
    "num_qubits = 25\n",
    "num_shots = 2**20\n",
    "simulator = AerSimulator(method='stabilizer', device='CPU')\n",
    "gpu_simulator = AerSimulator(method='tensor_network', device='GPU')\n",
    "print(simulator.available_devices(), simulator)\n",
    "print(simulator.available_methods())\n",
    "print(gpu_simulator.available_devices(), gpu_simulator)\n",
    "print(gpu_simulator.available_methods())"
   ]
  },
  {
   "cell_type": "code",
   "execution_count": 3,
   "id": "3eb8537a",
   "metadata": {},
   "outputs": [],
   "source": [
    "# Basic-CPU-Sim\n",
    "\n",
    "# Generate n-qubit GHZ state\n",
    "circ = qiskit.QuantumCircuit(num_qubits)\n",
    "circ.h(0)\n",
    "for i in range(num_qubits-1):\n",
    "    circ.cx(i, i+1)\n",
    "    circ.h(i)\n",
    "\n",
    "\n",
    "circ.measure_all()\n",
    "\n",
    "# circ.draw('mpl')\n"
   ]
  },
  {
   "cell_type": "code",
   "execution_count": 4,
   "id": "ab87b4a7",
   "metadata": {},
   "outputs": [],
   "source": [
    "transpiled_circ = transpile(circ, simulator)\n",
    "result = simulator.run(transpiled_circ, shots=num_shots).result()\n",
    "# counts = dict(sorted(result.get_counts(circ).items()))\n",
    "\n",
    "# print(counts)"
   ]
  },
  {
   "cell_type": "code",
   "execution_count": 5,
   "id": "89ab41b8",
   "metadata": {},
   "outputs": [],
   "source": [
    "transpiled_circ = transpile(circ, gpu_simulator)\n",
    "result = gpu_simulator.run(transpiled_circ, shots=num_shots).result()\n",
    "# counts = dict(sorted(result.get_counts(circ).items()))\n",
    "\n",
    "# print(counts)"
   ]
  },
  {
   "cell_type": "code",
   "execution_count": 6,
   "id": "662e5f1d",
   "metadata": {},
   "outputs": [
    {
     "name": "stdout",
     "output_type": "stream",
     "text": [
      "Options(backend_options={}, run_options={})\n"
     ]
    }
   ],
   "source": [
    "\n",
    "# Construct an ideal simulator with SamplerV2\n",
    "sampler = SamplerV2()\n",
    "print(sampler.options)\n",
    "job = sampler.run([circ], shots=num_shots)\n",
    "\n",
    "# Perform an ideal simulation\n",
    "result_ideal = job.result()\n",
    "# counts_ideal = result_ideal[0].data.meas.get_counts()\n",
    "# print('Counts(ideal):', counts_ideal)"
   ]
  }
 ],
 "metadata": {
  "kernelspec": {
   "display_name": ".venv",
   "language": "python",
   "name": "python3"
  },
  "language_info": {
   "codemirror_mode": {
    "name": "ipython",
    "version": 3
   },
   "file_extension": ".py",
   "mimetype": "text/x-python",
   "name": "python",
   "nbconvert_exporter": "python",
   "pygments_lexer": "ipython3",
   "version": "3.12.3"
  }
 },
 "nbformat": 4,
 "nbformat_minor": 5
}
